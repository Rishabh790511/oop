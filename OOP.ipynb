{
 "cells": [
  {
   "cell_type": "code",
   "execution_count": 6,
   "id": "d99036bd",
   "metadata": {},
   "outputs": [],
   "source": [
    "#Q1\n",
    "class Vehicle:\n",
    "    def __init__(self, name_of_vehicle, max_speed, average_of_vehicle):\n",
    "        self.name_of_vehicle = name_of_vehicle\n",
    "        self.max_speed = max_speed\n",
    "        self.average_of_vehicle = average_of_vehicle"
   ]
  },
  {
   "cell_type": "code",
   "execution_count": null,
   "id": "c8e0ed61",
   "metadata": {},
   "outputs": [],
   "source": [
    "print({car.name_of_vehicle}: Max Speed - {car.max_speed} km/h, Average - {car.average_of_vehicle} km/l\")\n",
    "print({bike.name_of_vehicle}: Max Speed - {bike.max_speed} km/h, Average - {bike.average_of_vehicle} km/l\")"
   ]
  },
  {
   "cell_type": "code",
   "execution_count": 3,
   "id": "a8c4fd1f",
   "metadata": {},
   "outputs": [
    {
     "ename": "NameError",
     "evalue": "name 'Vehicle' is not defined",
     "output_type": "error",
     "traceback": [
      "\u001b[1;31m---------------------------------------------------------------------------\u001b[0m",
      "\u001b[1;31mNameError\u001b[0m                                 Traceback (most recent call last)",
      "Cell \u001b[1;32mIn[3], line 2\u001b[0m\n\u001b[0;32m      1\u001b[0m \u001b[38;5;66;03m#Q2\u001b[39;00m\n\u001b[1;32m----> 2\u001b[0m \u001b[38;5;28;01mclass\u001b[39;00m \u001b[38;5;21;01mCar\u001b[39;00m(Vehicle):\n\u001b[0;32m      3\u001b[0m     \u001b[38;5;28;01mdef\u001b[39;00m \u001b[38;5;21m__init__\u001b[39m(\u001b[38;5;28mself\u001b[39m, name_of_vehicle, max_speed, average_of_vehicle):\n\u001b[0;32m      4\u001b[0m         \u001b[38;5;66;03m# Call the __init__ method of the parent class (Vehicle)\u001b[39;00m\n\u001b[0;32m      5\u001b[0m         \u001b[38;5;28msuper\u001b[39m()\u001b[38;5;241m.\u001b[39m\u001b[38;5;21m__init__\u001b[39m(name_of_vehicle, max_speed, average_of_vehicle)\n",
      "\u001b[1;31mNameError\u001b[0m: name 'Vehicle' is not defined"
     ]
    }
   ],
   "source": [
    "#Q2\n",
    "class Car(Vehicle):\n",
    "    def __init__(self, name_of_vehicle, max_speed, average_of_vehicle):\n",
    "        # Call the __init__ method of the parent class (Vehicle)\n",
    "        super().__init__(name_of_vehicle, max_speed, average_of_vehicle)\n",
    "\n",
    "    def seating_capacity(self, capacity):\n",
    "        return f\"{self.name_of_vehicle} has a seating capacity of {capacity} people.\""
   ]
  },
  {
   "cell_type": "code",
   "execution_count": 4,
   "id": "d0b11391",
   "metadata": {},
   "outputs": [
    {
     "name": "stdout",
     "output_type": "stream",
     "text": [
      "seating_capacity_result\n"
     ]
    }
   ],
   "source": [
    "print(\"seating_capacity_result\")"
   ]
  },
  {
   "cell_type": "code",
   "execution_count": 1,
   "id": "81c43322",
   "metadata": {},
   "outputs": [
    {
     "name": "stdout",
     "output_type": "stream",
     "text": [
      "Engine started.\n",
      "Electric motor charging.\n",
      "Hybrid car is now driving.\n"
     ]
    }
   ],
   "source": [
    "#Q3\n",
    "class Engine:\n",
    "    def start(self):\n",
    "        return \"Engine started.\"\n",
    "\n",
    "class ElectricMotor:\n",
    "    def charge(self):\n",
    "        return \"Electric motor charging.\"\n",
    "\n",
    "class HybridCar(Engine, ElectricMotor):\n",
    "    def drive(self):\n",
    "        return \"Hybrid car is now driving.\"\n",
    "\n",
    "# Example usage:\n",
    "hybrid_car = HybridCar()\n",
    "\n",
    "# Using methods from the parent classes\n",
    "engine_start_result = hybrid_car.start()\n",
    "electric_motor_charge_result = hybrid_car.charge()\n",
    "drive_result = hybrid_car.drive()\n",
    "\n",
    "# Printing the results\n",
    "print(engine_start_result)\n",
    "print(electric_motor_charge_result)\n",
    "print(drive_result)"
   ]
  },
  {
   "cell_type": "code",
   "execution_count": 2,
   "id": "8ffdc2f6",
   "metadata": {},
   "outputs": [
    {
     "name": "stdout",
     "output_type": "stream",
     "text": [
      "Current value: 0\n",
      "Updated value: 42\n",
      "Invalid value. Attribute must be non-negative.\n"
     ]
    }
   ],
   "source": [
    "#Q4\n",
    "class MyClass:\n",
    "    def __init__(self):\n",
    "        # Private attribute with a default value\n",
    "        self._my_attribute = 0\n",
    "\n",
    "    # Getter method to retrieve the value of the private attribute\n",
    "    def get_my_attribute(self):\n",
    "        return self._my_attribute\n",
    "\n",
    "    # Setter method to set the value of the private attribute\n",
    "    def set_my_attribute(self, value):\n",
    "        if value >= 0:\n",
    "            self._my_attribute = value\n",
    "        else:\n",
    "            print(\"Invalid value. Attribute must be non-negative.\")\n",
    "\n",
    "# Example usage:\n",
    "obj = MyClass()\n",
    "\n",
    "# Using the getter to retrieve the value\n",
    "current_value = obj.get_my_attribute()\n",
    "print(f\"Current value: {current_value}\")\n",
    "\n",
    "# Using the setter to update the value\n",
    "new_value = 42\n",
    "obj.set_my_attribute(new_value)\n",
    "print(f\"Updated value: {obj.get_my_attribute()}\")\n",
    "\n",
    "# Trying to set an invalid value\n",
    "obj.set_my_attribute(-5)"
   ]
  },
  {
   "cell_type": "code",
   "execution_count": 7,
   "id": "74044846",
   "metadata": {},
   "outputs": [
    {
     "name": "stdout",
     "output_type": "stream",
     "text": [
      "Generic Animal Sound: Generic animal sound\n",
      "Dog Sound: Woof! Woof!\n",
      "Cat Sound: Meow!\n"
     ]
    }
   ],
   "source": [
    "#q5\n",
    "class Animal:\n",
    "    def make_sound(self):\n",
    "        return \"Generic animal sound\"\n",
    "\n",
    "class Dog(Animal):\n",
    "    # Overriding the make_sound method from the superclass\n",
    "    def make_sound(self):\n",
    "        return \"Woof! Woof!\"\n",
    "\n",
    "class Cat(Animal):\n",
    "    # Overriding the make_sound method from the superclass\n",
    "    def make_sound(self):\n",
    "        return \"Meow!\"\n",
    "\n",
    "# Example usage:\n",
    "generic_animal = Animal()\n",
    "dog = Dog()\n",
    "cat = Cat()\n",
    "\n",
    "# Using the overridden methods\n",
    "print(\"Generic Animal Sound:\", generic_animal.make_sound())\n",
    "print(\"Dog Sound:\", dog.make_sound())\n",
    "print(\"Cat Sound:\", cat.make_sound())"
   ]
  },
  {
   "cell_type": "code",
   "execution_count": null,
   "id": "f0308e91",
   "metadata": {},
   "outputs": [],
   "source": []
  }
 ],
 "metadata": {
  "kernelspec": {
   "display_name": "Python 3 (ipykernel)",
   "language": "python",
   "name": "python3"
  },
  "language_info": {
   "codemirror_mode": {
    "name": "ipython",
    "version": 3
   },
   "file_extension": ".py",
   "mimetype": "text/x-python",
   "name": "python",
   "nbconvert_exporter": "python",
   "pygments_lexer": "ipython3",
   "version": "3.11.5"
  }
 },
 "nbformat": 4,
 "nbformat_minor": 5
}
