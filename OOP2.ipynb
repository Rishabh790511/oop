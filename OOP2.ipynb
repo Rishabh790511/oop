{
 "cells": [
  {
   "cell_type": "code",
   "execution_count": null,
   "id": "af9ebeac",
   "metadata": {},
   "outputs": [],
   "source": [
    "#Q1\n",
    "Abstraction in object-oriented programming (OOP) is the concept of simplifying complex systems by modeling classes based on the essential properties and behaviors they share. It involves hiding the complex implementation details of an object and exposing only the necessary features. Abstraction allows you to focus on what an object does without needing to understand how it achieves its functionality internally."
   ]
  },
  {
   "cell_type": "code",
   "execution_count": 1,
   "id": "d4b01133",
   "metadata": {},
   "outputs": [
    {
     "name": "stdout",
     "output_type": "stream",
     "text": [
      "Area of Circle: 78.5\n",
      "Area of Square: 16\n"
     ]
    }
   ],
   "source": [
    "from abc import ABC, abstractmethod\n",
    "\n",
    "class Shape(ABC):\n",
    "    @abstractmethod\n",
    "    def calculate_area(self):\n",
    "        pass\n",
    "\n",
    "class Circle(Shape):\n",
    "    def __init__(self, radius):\n",
    "        self.radius = radius\n",
    "\n",
    "    def calculate_area(self):\n",
    "        return 3.14 * self.radius**2\n",
    "\n",
    "class Square(Shape):\n",
    "    def __init__(self, side_length):\n",
    "        self.side_length = side_length\n",
    "\n",
    "    def calculate_area(self):\n",
    "        return self.side_length**2\n",
    "\n",
    "# Using abstraction\n",
    "circle = Circle(radius=5)\n",
    "square = Square(side_length=4)\n",
    "\n",
    "print(\"Area of Circle:\", circle.calculate_area())  # Output: 78.5\n",
    "print(\"Area of Square:\", square.calculate_area())  # Output: 16"
   ]
  },
  {
   "cell_type": "code",
   "execution_count": null,
   "id": "7bb93030",
   "metadata": {},
   "outputs": [],
   "source": [
    "#Q2\n",
    "Abstraction:\n",
    "\n",
    "Abstraction focuses on hiding the complexity of the internal workings of an object and exposing only the essential features.\n",
    "It involves modeling classes based on common properties and behaviors, providing a high-level view of the system.\n",
    "Encapsulation:\n",
    "\n",
    "Encapsulation involves bundling data (attributes) and methods that operate on the data within a single unit (a class).\n",
    "It restricts direct access to some of the object's components and encourages access through well-defined interfaces (getters and setters)."
   ]
  },
  {
   "cell_type": "code",
   "execution_count": 2,
   "id": "33864abb",
   "metadata": {},
   "outputs": [
    {
     "name": "stdout",
     "output_type": "stream",
     "text": [
      "Current Balance: 1500\n"
     ]
    }
   ],
   "source": [
    "class BankAccount:\n",
    "    def __init__(self, account_number, balance):\n",
    "        self._account_number = account_number  # Encapsulation\n",
    "        self._balance = balance  # Encapsulation\n",
    "\n",
    "    def get_balance(self):  # Encapsulation\n",
    "        return self._balance\n",
    "\n",
    "    def deposit(self, amount):  # Encapsulation\n",
    "        self._balance += amount\n",
    "\n",
    "# Abstraction: Client code uses the high-level concept of a bank account without knowing its internal details\n",
    "account = BankAccount(account_number=\"12345\", balance=1000)\n",
    "account.deposit(500)\n",
    "print(\"Current Balance:\", account.get_balance()) "
   ]
  },
  {
   "cell_type": "code",
   "execution_count": null,
   "id": "96897413",
   "metadata": {},
   "outputs": [],
   "source": [
    "#Q3\n",
    "The abc module in Python stands for \"Abstract Base Classes.\" It provides the ABC (Abstract Base Class) and abstractmethod decorators, allowing you to define abstract classes and abstract methods. An abstract class can't be instantiated, and its abstract methods must be implemented by its subclasses.\n",
    "\n",
    "The abc module is used to enforce a form of abstraction by defining a common interface that subclasses must adhere to. It helps in creating a contract for classes that inherit from an abstract class, ensuring that they implement certain methods."
   ]
  },
  {
   "cell_type": "code",
   "execution_count": 3,
   "id": "1b879179",
   "metadata": {},
   "outputs": [
    {
     "name": "stdout",
     "output_type": "stream",
     "text": [
      "Area of Circle: 78.5\n"
     ]
    }
   ],
   "source": [
    "from abc import ABC, abstractmethod\n",
    "\n",
    "class Shape(ABC):\n",
    "    @abstractmethod\n",
    "    def calculate_area(self):\n",
    "        pass\n",
    "\n",
    "class Circle(Shape):\n",
    "    def __init__(self, radius):\n",
    "        self.radius = radius\n",
    "\n",
    "    def calculate_area(self):\n",
    "        return 3.14 * self.radius**2\n",
    "\n",
    "# Attempting to create an instance of an abstract class (will raise TypeError)\n",
    "# shape = Shape()  # Uncommenting this line will result in a TypeError\n",
    "\n",
    "# Creating an instance of a concrete subclass\n",
    "circle = Circle(radius=5)\n",
    "print(\"Area of Circle:\", circle.calculate_area())  # Output: 78.5"
   ]
  },
  {
   "cell_type": "code",
   "execution_count": null,
   "id": "450f236c",
   "metadata": {},
   "outputs": [],
   "source": [
    "#Q4 Data abstraction in Python can be achieved through the use of private attributes and methods, along with providing public methods (getters and setters) to access and modify the private data. This helps in hiding the internal implementation details and exposing only the necessary features to the outside world."
   ]
  },
  {
   "cell_type": "code",
   "execution_count": 4,
   "id": "44f2cdd9",
   "metadata": {},
   "outputs": [
    {
     "name": "stdout",
     "output_type": "stream",
     "text": [
      "Student Name: Alice\n",
      "Updated Age: 22\n"
     ]
    }
   ],
   "source": [
    "class Student:\n",
    "    def __init__(self, name, age):\n",
    "        self._name = name  # Private attribute\n",
    "        self._age = age    # Private attribute\n",
    "\n",
    "    def get_name(self):    # Getter method\n",
    "        return self._name\n",
    "\n",
    "    def set_age(self, age):  # Setter method\n",
    "        if age >= 0:\n",
    "            self._age = age\n",
    "        else:\n",
    "            print(\"Invalid age. Age must be non-negative.\")\n",
    "\n",
    "# Using data abstraction\n",
    "student = Student(name=\"Alice\", age=20)\n",
    "print(\"Student Name:\", student.get_name())  # Output: Alice\n",
    "\n",
    "student.set_age(22)\n",
    "print(\"Updated Age:\", student._age)  # Accessing private attribute directly (not recommended)"
   ]
  },
  {
   "cell_type": "code",
   "execution_count": null,
   "id": "be9ad95a",
   "metadata": {},
   "outputs": [],
   "source": [
    "#Q5\n",
    "#No, we cannot create an instance of an abstract class in Python. Abstract classes are meant to be incomplete and serve as a blueprint for other classes to inherit from. They typically contain abstract methods (methods without an implementation) that must be implemented by concrete subclasses.\n",
    "\n",
    "Attempting to create an instance of an abstract class directly will result in a TypeError. Abstract classes are designed to be subclassed, and their purpose is to provide a common interface for their subclasses."
   ]
  },
  {
   "cell_type": "code",
   "execution_count": 5,
   "id": "c9e04d29",
   "metadata": {},
   "outputs": [],
   "source": [
    "from abc import ABC, abstractmethod\n",
    "\n",
    "class MyAbstractClass(ABC):\n",
    "    @abstractmethod\n",
    "    def my_abstract_method(self):\n",
    "        pass\n",
    "\n",
    "# Attempting to create an instance of an abstract class (will raise TypeError)\n",
    "# my_instance = MyAbstractClass()  # Uncommenting this line will result in a TypeError"
   ]
  },
  {
   "cell_type": "code",
   "execution_count": null,
   "id": "7068cdfa",
   "metadata": {},
   "outputs": [],
   "source": []
  },
  {
   "cell_type": "code",
   "execution_count": null,
   "id": "3ba5e73f",
   "metadata": {},
   "outputs": [],
   "source": []
  },
  {
   "cell_type": "code",
   "execution_count": null,
   "id": "c2c9a559",
   "metadata": {},
   "outputs": [],
   "source": []
  },
  {
   "cell_type": "code",
   "execution_count": null,
   "id": "1d0e3732",
   "metadata": {},
   "outputs": [],
   "source": []
  },
  {
   "cell_type": "code",
   "execution_count": null,
   "id": "7f94457f",
   "metadata": {},
   "outputs": [],
   "source": []
  }
 ],
 "metadata": {
  "kernelspec": {
   "display_name": "Python 3 (ipykernel)",
   "language": "python",
   "name": "python3"
  },
  "language_info": {
   "codemirror_mode": {
    "name": "ipython",
    "version": 3
   },
   "file_extension": ".py",
   "mimetype": "text/x-python",
   "name": "python",
   "nbconvert_exporter": "python",
   "pygments_lexer": "ipython3",
   "version": "3.11.5"
  }
 },
 "nbformat": 4,
 "nbformat_minor": 5
}
