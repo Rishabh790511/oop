{
 "cells": [
  {
   "cell_type": "code",
   "execution_count": 1,
   "id": "290e1dd7",
   "metadata": {},
   "outputs": [
    {
     "name": "stdout",
     "output_type": "stream",
     "text": [
      "Toyota Camry\n",
      "Honda Civic\n"
     ]
    }
   ],
   "source": [
    "# Class definition\n",
    "class Car:\n",
    "    def __init__(self, brand, model):\n",
    "        self.brand = brand\n",
    "        self.model = model\n",
    "\n",
    "    def display_info(self):\n",
    "        return f\"{self.brand} {self.model}\"\n",
    "\n",
    "# Creating objects\n",
    "car1 = Car(\"Toyota\", \"Camry\")\n",
    "car2 = Car(\"Honda\", \"Civic\")\n",
    "\n",
    "# Accessing object attributes and methods\n",
    "print(car1.display_info())  # Output: Toyota Camry\n",
    "print(car2.display_info())  # Output: Honda Civic"
   ]
  },
  {
   "cell_type": "code",
   "execution_count": null,
   "id": "c406faa1",
   "metadata": {},
   "outputs": [],
   "source": [
    "#Q2\n",
    "The four pillars of object-oriented programming are:\n",
    "\n",
    "Encapsulation: Encapsulation is the bundling of data and methods that operate on that data, restricting access to some of the object's components. It helps in hiding the internal implementation details of an object and allows access only through well-defined interfaces.\n",
    "\n",
    "Abstraction: Abstraction involves simplifying complex systems by modeling classes based on the essential properties and behaviors they share. It allows focusing on the essential features of an object while ignoring the non-essential details.\n",
    "\n",
    "Inheritance: Inheritance is a mechanism that allows a class (subclass or derived class) to inherit properties and behaviors from another class (superclass or base class). It promotes code reuse and the creation of a hierarchy of classes.\n",
    "\n",
    "Polymorphism: Polymorphism allows objects of different classes to be treated as objects of a common base class. It enables a single interface to represent different types of objects and allows methods to be applied to objects of various types"
   ]
  },
  {
   "cell_type": "code",
   "execution_count": null,
   "id": "b655c222",
   "metadata": {},
   "outputs": [],
   "source": [
    "#Q3\n",
    "The __init__() function in Python is a special method used for initializing the attributes of an object when it is created. It is commonly known as the constructor. The __init__() method is called automatically when an object is instantiated from a class."
   ]
  },
  {
   "cell_type": "code",
   "execution_count": null,
   "id": "4277a075",
   "metadata": {},
   "outputs": [],
   "source": [
    "#Q4\n",
    "n object-oriented programming in Python, self is a convention that represents the instance of the class. It is the first parameter in the definition of any method within a class and refers to the instance on which the method is called. Using self allows you to access and modify the attributes of the instance within the class.\n",
    "\n",
    "For example, when you call a method like obj.method(), it is automatically converted by Python to Class.method(obj) behind the scenes. The self parameter refers to the specific instance (obj in this case) and provides a way for methods to work with the instance's attributes and other methods."
   ]
  },
  {
   "cell_type": "code",
   "execution_count": 3,
   "id": "9e7bf666",
   "metadata": {},
   "outputs": [
    {
     "ename": "SyntaxError",
     "evalue": "invalid syntax (3285146877.py, line 42)",
     "output_type": "error",
     "traceback": [
      "\u001b[1;36m  Cell \u001b[1;32mIn[3], line 42\u001b[1;36m\u001b[0m\n\u001b[1;33m    In multiple inheritance, a class inherits from more than one parent class. Here, HybridCar inherits from both Engine and ElectricMotor.\u001b[0m\n\u001b[1;37m       ^\u001b[0m\n\u001b[1;31mSyntaxError\u001b[0m\u001b[1;31m:\u001b[0m invalid syntax\n"
     ]
    }
   ],
   "source": [
    "#Q5\n",
    "#Inheritance is a fundamental concept in OOP that allows a new class (subclass or derived class) to inherit attributes and behaviors from an existing class (superclass or base class). This promotes code reuse and the creation of a hierarchy of classes.\n",
    "\n",
    "#Example of Single Inheritance:\n",
    "\n",
    "class Animal:\n",
    "    def speak(self):\n",
    "        return \"Generic animal sound\"\n",
    "\n",
    "class Dog(Animal):\n",
    "    def bark(self):\n",
    "        return \"Woof! Woof!\"\n",
    "\n",
    "# Creating objects\n",
    "animal = Animal()\n",
    "dog = Dog()\n",
    "\n",
    "# Using inherited methods\n",
    "print(animal.speak())  # Output: Generic animal sound\n",
    "print(dog.speak())     # Output: Generic animal sound\n",
    "print(dog.bark())      # Output: Woof! Woof!\n",
    "#Example of Multiple Inheritance:\n",
    "class Engine:\n",
    "    def start(self):\n",
    "        return \"Engine started.\"\n",
    "\n",
    "class ElectricMotor:\n",
    "    def charge(self):\n",
    "        return \"Electric motor charging.\"\n",
    "\n",
    "class HybridCar(Engine, ElectricMotor):\n",
    "    def drive(self):\n",
    "        return \"Hybrid car is now driving.\"\n",
    "\n",
    "# Creating object\n",
    "hybrid_car = HybridCar()\n",
    "\n",
    "# Using methods from both parent classes\n",
    "print(hybrid_car.start())   # Output: Engine started.\n",
    "print(hybrid_car.charge())  # Output: Electric motor charging.\n",
    "print(hybrid_car.drive())   # Output: Hybrid car is now driving.\n",
    "In multiple inheritance, a class inherits from more than one parent class. Here, HybridCar inherits from both Engine and ElectricMotor.\n",
    "\n",
    "#Example of Multilevel Inheritance:\n",
    "\n",
    "class Vehicle:\n",
    "    def move(self):\n",
    "        return \"Vehicle is moving.\"\n",
    "\n",
    "class Car(Vehicle):\n",
    "    def drive(self):\n",
    "        return \"Car is driving.\"\n",
    "\n",
    "class SportsCar(Car):\n",
    "    def accelerate(self):\n",
    "        return \"Sports car accelerating.\"\n",
    "\n",
    "# Creating object\n",
    "sports_car = SportsCar()\n",
    "\n",
    "# Using methods from all ancestor classes\n",
    "print(sports_car.move())       # Output: Vehicle is moving.\n",
    "print(sports_car.drive())      # Output: Car is driving.\n",
    "print(sports_car.accelerate()) # Output: Sports car accelerating.\n",
    "In multilevel inheritance, a class inherits from another class, and then another class inherits from the derived class. Here, SportsCar inherits from Car, which in turn inherits from Vehicle"
   ]
  },
  {
   "cell_type": "code",
   "execution_count": null,
   "id": "c589680e",
   "metadata": {},
   "outputs": [],
   "source": []
  },
  {
   "cell_type": "code",
   "execution_count": null,
   "id": "22d90560",
   "metadata": {},
   "outputs": [],
   "source": []
  },
  {
   "cell_type": "code",
   "execution_count": null,
   "id": "27faf47d",
   "metadata": {},
   "outputs": [],
   "source": []
  },
  {
   "cell_type": "code",
   "execution_count": null,
   "id": "b51be9a7",
   "metadata": {},
   "outputs": [],
   "source": []
  },
  {
   "cell_type": "code",
   "execution_count": null,
   "id": "74e3bf71",
   "metadata": {},
   "outputs": [],
   "source": []
  },
  {
   "cell_type": "code",
   "execution_count": null,
   "id": "4efd6ac2",
   "metadata": {},
   "outputs": [],
   "source": []
  },
  {
   "cell_type": "code",
   "execution_count": null,
   "id": "984e9f79",
   "metadata": {},
   "outputs": [],
   "source": []
  },
  {
   "cell_type": "code",
   "execution_count": null,
   "id": "19b8aa66",
   "metadata": {},
   "outputs": [],
   "source": []
  }
 ],
 "metadata": {
  "kernelspec": {
   "display_name": "Python 3 (ipykernel)",
   "language": "python",
   "name": "python3"
  },
  "language_info": {
   "codemirror_mode": {
    "name": "ipython",
    "version": 3
   },
   "file_extension": ".py",
   "mimetype": "text/x-python",
   "name": "python",
   "nbconvert_exporter": "python",
   "pygments_lexer": "ipython3",
   "version": "3.11.5"
  }
 },
 "nbformat": 4,
 "nbformat_minor": 5
}
